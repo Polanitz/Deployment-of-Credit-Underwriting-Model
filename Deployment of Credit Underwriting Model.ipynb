{
 "cells": [
  {
   "cell_type": "markdown",
   "metadata": {},
   "source": [
    "# Credit Underwriting Model using a Binary Logistic Maximum Likelihood Forecast"
   ]
  },
  {
   "cell_type": "markdown",
   "metadata": {},
   "source": [
    "### Maximum Likelihood Estimates or MLE on a binary multivariate logistic analysis, which is used to model dependent variables to determine the expected probability of success of belonging to a certain group. For instance, given a set of independent variables (e.g., age, income, and education level of credit card or mortgage loan holders), I model the probability of credit loan default using MLE. A typical regression model is invalid because the errors are heteroskedastic and non-normal, and the resulting estimated probability estimates will sometimes be above 1 or below 0. MLE analysis handles these problems using an iterative optimization routine."
   ]
  },
  {
   "cell_type": "markdown",
   "metadata": {},
   "source": [
    "#### The data which I used represents a sample of several hundred previous loans, credit, or debt issues. The data showed whether each loan had defaulted or not, as well as the specifics of each loan applicant's age, education level (ndicating high school, university, or graduate professional education), years with current employer and so forth. The idea is to model these empirical data to see which variables affect the default behavior of individuals, using Risk Simulator's Maximum Likelihood Models. The resulting model will help a bank or a credit issuer compute the expected probability of default of an individual credit holder of having specific characteristics."
   ]
  },
  {
   "cell_type": "markdown",
   "metadata": {},
   "source": [
    "# How to Interpret the Scoring Response?"
   ]
  },
  {
   "cell_type": "code",
   "execution_count": 3,
   "metadata": {},
   "outputs": [],
   "source": [
    "## You will get a Scoring Response looking like this:\n",
    "## Scoring response\n",
    "## {'predictions': [{'fields': ['prediction', 'probability'], \n",
    "##                    'values': [[1, [0.16718178987503052, 0.8328182101249695]]]}]}"
   ]
  },
  {
   "cell_type": "markdown",
   "metadata": {},
   "source": [
    "##### A value of 1 indicates that the model had classified the applicant as a \"Bad applicant\", while a value of 0 indicates that the model had classified the applicant as a \"Good applicant\".\n",
    "\n",
    "##### The default probability of the applicant in our case is 83.28%"
   ]
  },
  {
   "cell_type": "code",
   "execution_count": 4,
   "metadata": {},
   "outputs": [
    {
     "name": "stdout",
     "output_type": "stream",
     "text": [
      "What is the applicant's age? (For example, 41):24\n",
      "What is applicant's education level: high school, university or graduate professional education? (For example, graduate professional education):high school\n",
      "How many years does applicant have with the current employer? (For example, 17):3\n",
      "How many years does applicant have with the current address? (For example, 12):4\n",
      "What is the applicant's household income (in thousands of NIS)? (For example, 176):19\n",
      "What is the applicant's debt to income ratio (in percentage)? (For example, 9.3):24.4\n",
      "What is the applicant's credit card debt (in thousands of NIS)? (For example, 11.36):1.36\n",
      "What is the applicant's other debt (in thousands of NIS)? (For example, 5.01):3.28\n"
     ]
    }
   ],
   "source": [
    "a = int(input(\"What is the applicant's age? (For example, 41):\"))\n",
    "b = str(input(\"What is applicant's education level: high school, university or graduate professional education? (For example, graduate professional education):\"))\n",
    "c = int(input(\"How many years does applicant have with the current employer? (For example, 17):\"))\n",
    "d = int(input(\"How many years does applicant have with the current address? (For example, 12):\"))\n",
    "e = int(input(\"What is the applicant's household income (in thousands of NIS)? (For example, 176):\"))\n",
    "f = float(input(\"What is the applicant's debt to income ratio (in percentage)? (For example, 9.3):\"))\n",
    "g = float(input(\"What is the applicant's credit card debt (in thousands of NIS)? (For example, 11.36):\"))\n",
    "h = float(input(\"What is the applicant's other debt (in thousands of NIS)? (For example, 5.01):\"))\n",
    "\n",
    "import requests\n",
    "\n",
    "# Paste your Watson Machine Learning service apikey here\n",
    "# Use the rest of the code sample as written\n",
    "apikey = \"vZk6RAt9FC34yBKI6BA0kCnX7D4nJNVuDw6NcKvWcmVd\"\n",
    "\n",
    "# Get an IAM token from IBM Cloud\n",
    "url     = \"https://iam.bluemix.net/oidc/token\"\n",
    "headers = { \"Content-Type\" : \"application/x-www-form-urlencoded\" }\n",
    "data    = \"apikey=\" + apikey + \"&grant_type=urn:ibm:params:oauth:grant-type:apikey\"\n",
    "IBM_cloud_IAM_uid = \"bx\"\n",
    "IBM_cloud_IAM_pwd = \"bx\"\n",
    "response  = requests.post( url, headers=headers, data=data, auth=( IBM_cloud_IAM_uid, IBM_cloud_IAM_pwd ) )\n",
    "iam_token = response.json()[\"access_token\"]\n",
    "\n",
    "ml_instance_id = \"d2ff1d7b-49de-4af5-888c-b69acc36a625\"\n",
    "\n",
    "import urllib3, requests, json\n",
    "\n",
    "# NOTE: generate iam_token and retrieve ml_instance_id based on provided documentation\t\n",
    "header = {'Content-Type': 'application/json', 'Authorization': 'Bearer ' \n",
    "          + iam_token,'ML-Instance-ID': ml_instance_id}\n",
    "\n",
    "# NOTE: manually define and pass the array(s) of values to be scored in the next line\n",
    "payload_scoring = {\"input_data\": [{\"fields\": [\"Age\", \"Education Level\", \"Years with Current Employer\", \"Years at Current Address\", \"Household Income\", \"Debt to Income Ratio\", \"Credit Card Debt\", \"Other Debt\"], \n",
    "                                   \"values\": [  [a,b,c,d,e,f,g,h]       ]}]}\n",
    "\n",
    "response_scoring = requests.post('https://us-south.ml.cloud.ibm.com/v4/deployments/2ea09ada-a75f-49f2-a63b-72e83e333bde/predictions', json=payload_scoring, headers=header)"
   ]
  },
  {
   "cell_type": "code",
   "execution_count": 5,
   "metadata": {},
   "outputs": [
    {
     "name": "stdout",
     "output_type": "stream",
     "text": [
      "\u001b[1m The inputs of the applicant are:\n"
     ]
    },
    {
     "data": {
      "text/html": [
       "<div>\n",
       "<style scoped>\n",
       "    .dataframe tbody tr th:only-of-type {\n",
       "        vertical-align: middle;\n",
       "    }\n",
       "\n",
       "    .dataframe tbody tr th {\n",
       "        vertical-align: top;\n",
       "    }\n",
       "\n",
       "    .dataframe thead th {\n",
       "        text-align: right;\n",
       "    }\n",
       "</style>\n",
       "<table border=\"1\" class=\"dataframe\">\n",
       "  <thead>\n",
       "    <tr style=\"text-align: right;\">\n",
       "      <th></th>\n",
       "      <th>Age</th>\n",
       "      <th>Education Level</th>\n",
       "      <th>Years with Current Employer</th>\n",
       "      <th>Years at Current Address</th>\n",
       "      <th>Household Income</th>\n",
       "      <th>Debt to Income Ratio(%)</th>\n",
       "      <th>Credit Card Debt</th>\n",
       "      <th>Other Debt</th>\n",
       "    </tr>\n",
       "  </thead>\n",
       "  <tbody>\n",
       "    <tr>\n",
       "      <th>0</th>\n",
       "      <td>24</td>\n",
       "      <td>high school</td>\n",
       "      <td>3</td>\n",
       "      <td>4</td>\n",
       "      <td>19</td>\n",
       "      <td>24.4</td>\n",
       "      <td>1.36</td>\n",
       "      <td>3.28</td>\n",
       "    </tr>\n",
       "  </tbody>\n",
       "</table>\n",
       "</div>"
      ],
      "text/plain": [
       "   Age Education Level  Years with Current Employer  Years at Current Address  \\\n",
       "0   24     high school                            3                         4   \n",
       "\n",
       "   Household Income  Debt to Income Ratio(%)  Credit Card Debt  Other Debt  \n",
       "0                19                     24.4              1.36        3.28  "
      ]
     },
     "execution_count": 5,
     "metadata": {},
     "output_type": "execute_result"
    }
   ],
   "source": [
    "import pandas as pd\n",
    "v = {'Age': [a], 'Education Level': [b],'Years with Current Employer': [c], \n",
    "     'Years at Current Address': [d],'Household Income': [e], 'Debt to Income Ratio(%)' : [f], 'Credit Card Debt': [g], 'Other Debt': [h]}\n",
    "df = pd.DataFrame(data=v)\n",
    "print(\"\\033[1m The inputs of the applicant are:\")\n",
    "df"
   ]
  },
  {
   "cell_type": "code",
   "execution_count": 6,
   "metadata": {},
   "outputs": [
    {
     "name": "stdout",
     "output_type": "stream",
     "text": [
      "\u001b[1m The outputs are:\n",
      "Bad applicant - Don't lend him any money\n",
      "The default probability of this applicant is 81.40%\n"
     ]
    }
   ],
   "source": [
    "print(\"\\033[1m The outputs are:\")\n",
    "x = json.loads(response_scoring.text)\n",
    "y = x['predictions'][0]['values'][0][0]\n",
    "if y == 1:\n",
    "    print(\"Bad applicant - Don't lend him any money\")\n",
    "    print(\"The default probability of this applicant is\", \"{:.2%}\".format(max(x['predictions'][0]['values'][0][1])))\n",
    "else:\n",
    "    print(\"Good applicant - Relax you can lend money\")\n",
    "    print(\"The default probability of this applicant is\", \"{:.2%}\".format(min(x['predictions'][0]['values'][0][1])))"
   ]
  },
  {
   "cell_type": "code",
   "execution_count": null,
   "metadata": {},
   "outputs": [],
   "source": []
  }
 ],
 "metadata": {
  "kernelspec": {
   "display_name": "Python 3",
   "language": "python",
   "name": "python3"
  },
  "language_info": {
   "codemirror_mode": {
    "name": "ipython",
    "version": 3
   },
   "file_extension": ".py",
   "mimetype": "text/x-python",
   "name": "python",
   "nbconvert_exporter": "python",
   "pygments_lexer": "ipython3",
   "version": "3.7.4"
  }
 },
 "nbformat": 4,
 "nbformat_minor": 4
}
